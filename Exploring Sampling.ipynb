{
 "cells": [
  {
   "cell_type": "markdown",
   "metadata": {},
   "source": [
    "# Imports"
   ]
  },
  {
   "cell_type": "code",
   "execution_count": 1,
   "metadata": {},
   "outputs": [],
   "source": [
    "import numpy as np\n",
    "import pandas as pd\n",
    "import matplotlib.pyplot as plt\n",
    "import seaborn as sns\n",
    "from sklearn.preprocessing import StandardScaler\n",
    "from imblearn.under_sampling import RandomUnderSampler, NearMiss\n",
    "from imblearn.over_sampling import SMOTE, RandomOverSampler\n",
    "from sklearn.ensemble import RandomForestClassifier\n",
    "from collections import Counter\n",
    "from sklearn.model_selection import train_test_split\n",
    "from sklearn.metrics import recall_score, precision_score"
   ]
  },
  {
   "cell_type": "markdown",
   "metadata": {},
   "source": [
    "# Dataset"
   ]
  },
  {
   "cell_type": "code",
   "execution_count": 2,
   "metadata": {},
   "outputs": [
    {
     "name": "stdout",
     "output_type": "stream",
     "text": [
      "Null values in Dataset :  0\n",
      "Number of Observations in the dataset :  284807\n",
      "Number of Features to be used :  29\n",
      "Fraud cases : 492         0.173%\n"
     ]
    }
   ],
   "source": [
    "dataset = pd.read_csv('creditcard.csv')\n",
    "\n",
    "# Exploratory Data Analysis\n",
    "# Checking if there is NULL values anywhere in the dataset\n",
    "print('Null values in Dataset : ',int(np.any(dataset.isna().any())))\n",
    "\n",
    "# Scaling 'Amount' Feature since its having a different range \n",
    "dataset['Amount'] = StandardScaler().fit_transform(dataset['Amount'].values.reshape(-1,1))\n",
    "\n",
    "# Features\n",
    "X = dataset.drop(['Time','Class'], axis=1) # Dropping Time since its of no use\n",
    "# Target Class\n",
    "y = dataset['Class']\n",
    "\n",
    "print('Number of Observations in the dataset : ', X.shape[0])\n",
    "print('Number of Features to be used : ', X.shape[1])\n",
    "print(f'Fraud cases : {sum(y)}         {np.round(sum(y)/X.shape[0]*100, 3)}%')"
   ]
  },
  {
   "cell_type": "markdown",
   "metadata": {},
   "source": [
    "# Random Forest Function to calculate performance metrics"
   ]
  },
  {
   "cell_type": "code",
   "execution_count": 3,
   "metadata": {},
   "outputs": [],
   "source": [
    "Scores = {  'sample' : [],\n",
    "            'precision' : [],\n",
    "            'recall' : []\n",
    "        }\n",
    "\n",
    "def Report(X, y):\n",
    "    \n",
    "    X_train, X_test, y_train, y_test = train_test_split(X, y, test_size=0.25)\n",
    "    '''\n",
    "    print('-------------- Training Data --------------')\n",
    "    print(f'X train : {X_train.shape}      y train : {len(y_train)}')\n",
    "    print(f'Fraud cases : {sum(y_train)}         {np.round(sum(y_train)/X_train.shape[0]*100, 3)}%')\n",
    "    print('---------------- Test Data ----------------')\n",
    "    print(f'X test : {X_test.shape}        y test : {len(y_test)}')\n",
    "    print(f'Fraud cases : {sum(y_test)}          {np.round(sum(y_test)/X_test.shape[0]*100, 3)}%')\n",
    "    '''\n",
    "\n",
    "    model = RandomForestClassifier(max_depth=3, random_state=42)\n",
    "    model.fit(X_train, y_train)\n",
    "    y_pred = model.predict(X_test)\n",
    "\n",
    "    return precision_score(y_test, y_pred), recall_score(y_test, y_pred)\n",
    "\n",
    "    '''\n",
    "    cm = confusion_matrix(y_test, y_pred)\n",
    "    display = ConfusionMatrixDisplay(confusion_matrix=cm)\n",
    "    display.plot()\n",
    "    plt.show()\n",
    "    '''\n",
    "\n",
    "    #print(classification_report(y_test, y_pred))\n",
    "    #y_prob = model.predict_proba(X_test)[:,1]\n",
    "    #fpr, tpr, _ = roc_curve(y_test, y_prob)\n",
    "    #auc = round(roc_auc_score(y_test, y_prob), 4)\n",
    "    #ROC['Random_Forest'] = [fpr, tpr, auc]\n"
   ]
  },
  {
   "cell_type": "markdown",
   "metadata": {},
   "source": [
    "# Random Over Sampler"
   ]
  },
  {
   "cell_type": "code",
   "execution_count": 4,
   "metadata": {},
   "outputs": [
    {
     "name": "stdout",
     "output_type": "stream",
     "text": [
      "Oversampled dataset shape Counter({0: 284315, 1: 28431})\n"
     ]
    }
   ],
   "source": [
    "over = RandomOverSampler(sampling_strategy=0.1, random_state=42)\n",
    "X_res, y_res = over.fit_resample(X, y)\n",
    "print('Oversampled dataset shape %s' % Counter(y_res))\n",
    "precision, recall = Report(X_res, y_res)\n",
    "Scores['precision'].append(precision)\n",
    "Scores['recall'].append(recall)\n",
    "Scores['sample'].append('ROS')"
   ]
  },
  {
   "cell_type": "markdown",
   "metadata": {},
   "source": [
    "# Oversampling minority class using SMOTE"
   ]
  },
  {
   "cell_type": "code",
   "execution_count": 5,
   "metadata": {},
   "outputs": [
    {
     "name": "stdout",
     "output_type": "stream",
     "text": [
      "Oversampled dataset shape Counter({0: 284315, 1: 28431})\n"
     ]
    }
   ],
   "source": [
    "over = SMOTE(sampling_strategy=0.1, random_state=42)\n",
    "X_res, y_res = over.fit_resample(X, y)\n",
    "print('Oversampled dataset shape %s' % Counter(y_res))\n",
    "precision, recall = Report(X_res, y_res)\n",
    "Scores['precision'].append(precision)\n",
    "Scores['recall'].append(recall)\n",
    "Scores['sample'].append('SMOTE')"
   ]
  },
  {
   "cell_type": "markdown",
   "metadata": {},
   "source": [
    "# Undersampling Majority class using RandomUnderSampler"
   ]
  },
  {
   "cell_type": "code",
   "execution_count": 6,
   "metadata": {},
   "outputs": [
    {
     "name": "stdout",
     "output_type": "stream",
     "text": [
      "Undersampled dataset shape Counter({0: 984, 1: 492})\n"
     ]
    }
   ],
   "source": [
    "under = RandomUnderSampler(sampling_strategy=0.5, random_state=42)\n",
    "X_res, y_res = under.fit_resample(X, y)\n",
    "print('Undersampled dataset shape %s' % Counter(y_res))\n",
    "precision, recall = Report(X_res, y_res)\n",
    "Scores['precision'].append(precision)\n",
    "Scores['recall'].append(recall)\n",
    "Scores['sample'].append('RUS')"
   ]
  },
  {
   "cell_type": "markdown",
   "metadata": {},
   "source": [
    "# Near Miss"
   ]
  },
  {
   "cell_type": "code",
   "execution_count": 7,
   "metadata": {},
   "outputs": [
    {
     "name": "stdout",
     "output_type": "stream",
     "text": [
      "Undersampled dataset shape Counter({0: 984, 1: 492})\n"
     ]
    }
   ],
   "source": [
    "under = NearMiss(sampling_strategy=0.5)\n",
    "X_res, y_res = under.fit_resample(X, y)\n",
    "print('Undersampled dataset shape %s' % Counter(y_res))\n",
    "precision, recall = Report(X_res, y_res)\n",
    "Scores['precision'].append(precision)\n",
    "Scores['recall'].append(recall)\n",
    "Scores['sample'].append('NearMiss')"
   ]
  },
  {
   "cell_type": "markdown",
   "metadata": {},
   "source": [
    "# ROS + RUS"
   ]
  },
  {
   "cell_type": "code",
   "execution_count": 8,
   "metadata": {},
   "outputs": [
    {
     "name": "stdout",
     "output_type": "stream",
     "text": [
      "Oversampled dataset shape Counter({0: 284315, 1: 28431})\n",
      "Undersampled dataset shape Counter({0: 56862, 1: 28431})\n"
     ]
    }
   ],
   "source": [
    "over = RandomOverSampler(sampling_strategy=0.1, random_state=42)\n",
    "X_res, y_res = over.fit_resample(X, y)\n",
    "print('Oversampled dataset shape %s' % Counter(y_res))\n",
    "\n",
    "under = RandomUnderSampler(sampling_strategy=0.5, random_state=42)\n",
    "X_res, y_res = under.fit_resample(X_res, y_res)\n",
    "print('Undersampled dataset shape %s' % Counter(y_res))\n",
    "\n",
    "precision, recall = Report(X_res, y_res)\n",
    "Scores['precision'].append(precision)\n",
    "Scores['recall'].append(recall)\n",
    "Scores['sample'].append('ROS+RUS')"
   ]
  },
  {
   "cell_type": "markdown",
   "metadata": {},
   "source": [
    "# ROS + Near Miss"
   ]
  },
  {
   "cell_type": "code",
   "execution_count": 9,
   "metadata": {},
   "outputs": [
    {
     "name": "stdout",
     "output_type": "stream",
     "text": [
      "Oversampled dataset shape Counter({0: 284315, 1: 28431})\n",
      "Undersampled dataset shape Counter({0: 56862, 1: 28431})\n"
     ]
    }
   ],
   "source": [
    "over = RandomOverSampler(sampling_strategy=0.1, random_state=42)\n",
    "X_res, y_res = over.fit_resample(X, y)\n",
    "print('Oversampled dataset shape %s' % Counter(y_res))\n",
    "\n",
    "under = NearMiss(sampling_strategy=0.5)\n",
    "X_res, y_res = under.fit_resample(X_res, y_res)\n",
    "print('Undersampled dataset shape %s' % Counter(y_res))\n",
    "\n",
    "precision, recall = Report(X_res, y_res)\n",
    "Scores['precision'].append(precision)\n",
    "Scores['recall'].append(recall)\n",
    "Scores['sample'].append('ROS+NearMiss')"
   ]
  },
  {
   "cell_type": "markdown",
   "metadata": {},
   "source": [
    "# SMOTE + RUS"
   ]
  },
  {
   "cell_type": "code",
   "execution_count": 10,
   "metadata": {},
   "outputs": [
    {
     "name": "stdout",
     "output_type": "stream",
     "text": [
      "Oversampled dataset shape Counter({0: 284315, 1: 28431})\n",
      "Undersampled dataset shape Counter({0: 56862, 1: 28431})\n"
     ]
    }
   ],
   "source": [
    "over = SMOTE(sampling_strategy=0.1, random_state=42)\n",
    "X_res, y_res = over.fit_resample(X, y)\n",
    "print('Oversampled dataset shape %s' % Counter(y_res))\n",
    "\n",
    "under = RandomUnderSampler(sampling_strategy=0.5, random_state=42)\n",
    "X_res, y_res = under.fit_resample(X_res, y_res)\n",
    "print('Undersampled dataset shape %s' % Counter(y_res))\n",
    "\n",
    "precision, recall = Report(X_res, y_res)\n",
    "Scores['precision'].append(precision)\n",
    "Scores['recall'].append(recall)\n",
    "Scores['sample'].append('SMOTE+RUS')"
   ]
  },
  {
   "cell_type": "markdown",
   "metadata": {},
   "source": [
    "# SMOTE + Near Miss"
   ]
  },
  {
   "cell_type": "code",
   "execution_count": 11,
   "metadata": {},
   "outputs": [
    {
     "name": "stdout",
     "output_type": "stream",
     "text": [
      "Oversampled dataset shape Counter({0: 284315, 1: 28431})\n",
      "Undersampled dataset shape Counter({0: 56862, 1: 28431})\n"
     ]
    }
   ],
   "source": [
    "over = SMOTE(sampling_strategy=0.1, random_state=42)\n",
    "X_res, y_res = over.fit_resample(X, y)\n",
    "print('Oversampled dataset shape %s' % Counter(y_res))\n",
    "\n",
    "under = NearMiss(sampling_strategy=0.5)\n",
    "X_res, y_res = under.fit_resample(X_res, y_res)\n",
    "print('Undersampled dataset shape %s' % Counter(y_res))\n",
    "\n",
    "precision, recall = Report(X_res, y_res)\n",
    "Scores['precision'].append(precision)\n",
    "Scores['recall'].append(recall)\n",
    "Scores['sample'].append('SMOTE+NearMiss')"
   ]
  },
  {
   "cell_type": "markdown",
   "metadata": {},
   "source": [
    "# Visualize Precision and Recall scores"
   ]
  },
  {
   "cell_type": "code",
   "execution_count": 76,
   "metadata": {},
   "outputs": [
    {
     "data": {
      "image/png": "[encoded data removed]",
      "text/plain": [
       "<Figure size 1500x500 with 1 Axes>"
      ]
     },
     "metadata": {},
     "output_type": "display_data"
    }
   ],
   "source": [
    "%matplotlib inline\n",
    "df = pd.DataFrame(Scores)\n",
    "fig, ax = plt.subplots()\n",
    "df.plot.bar(x = 'sample',y = ['precision', 'recall'], rot=40, ax=ax)\n",
    "plt.legend(loc=4)\n",
    "ax.set(xlabel=None)\n",
    "plt.suptitle('Bar Plot of Precision-Recall by different Sampling techniques')\n",
    "plt.rc('legend', fontsize=12)\n",
    "plt.rc('figure', titlesize=20)\n",
    "fig.set_figwidth(15)\n",
    "fig.set_figheight(5)\n",
    "for p in ax.patches: \n",
    "    ax.annotate(np.round(p.get_height(),decimals=2), (p.get_x()+p.get_width()/2., p.get_height()))"
   ]
  }
 ],
 "metadata": {
  "kernelspec": {
   "display_name": "Python 3.9.15 ('base')",
   "language": "python",
   "name": "python3"
  },
  "language_info": {
   "codemirror_mode": {
    "name": "ipython",
    "version": 3
   },
   "file_extension": ".py",
   "mimetype": "text/x-python",
   "name": "python",
   "nbconvert_exporter": "python",
   "pygments_lexer": "ipython3",
   "version": "3.9.15"
  },
  "orig_nbformat": 4,
  "vscode": {
   "interpreter": {
    "hash": "e320dfeb06630bafa77eb5da607544aa614fc900b2e00ab41ad317ff9ada1530"
   }
  }
 },
 "nbformat": 4,
 "nbformat_minor": 2
}
